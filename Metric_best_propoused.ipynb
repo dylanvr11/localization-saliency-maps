{
 "cells": [
  {
   "cell_type": "code",
   "execution_count": 1,
   "id": "94cdb3c5",
   "metadata": {},
   "outputs": [],
   "source": [
    "import os"
   ]
  },
  {
   "cell_type": "code",
   "execution_count": 2,
   "id": "a6b1cf17",
   "metadata": {},
   "outputs": [],
   "source": [
    "import random"
   ]
  },
  {
   "cell_type": "code",
   "execution_count": 3,
   "id": "a8b3964b",
   "metadata": {},
   "outputs": [],
   "source": [
    "import torch\n",
    "import torch.nn as nn\n",
    "from torchvision import models\n",
    "import cv2\n",
    "import numpy as np"
   ]
  },
  {
   "cell_type": "code",
   "execution_count": 4,
   "id": "578e6925",
   "metadata": {},
   "outputs": [],
   "source": [
    "import cv2 as cv"
   ]
  },
  {
   "cell_type": "code",
   "execution_count": 5,
   "id": "26c6426a",
   "metadata": {},
   "outputs": [],
   "source": [
    "import warnings\n",
    "warnings.filterwarnings('ignore')\n",
    "warnings.simplefilter('ignore')\n",
    "import torch    \n",
    "import cv2\n",
    "import numpy as np\n",
    "import requests\n",
    "import torchvision.transforms as transforms\n",
    "from pytorch_grad_cam import EigenCAM\n",
    "from pytorch_grad_cam.utils.image import show_cam_on_image, scale_cam_image\n",
    "from PIL import Image\n",
    "import glob\n",
    "import matplotlib.pyplot as plt"
   ]
  },
  {
   "cell_type": "code",
   "execution_count": 6,
   "id": "fec7835e",
   "metadata": {},
   "outputs": [],
   "source": [
    "import matplotlib.patches as patches"
   ]
  },
  {
   "cell_type": "code",
   "execution_count": 7,
   "id": "af61956b",
   "metadata": {},
   "outputs": [],
   "source": [
    "%matplotlib inline"
   ]
  },
  {
   "cell_type": "code",
   "execution_count": 8,
   "id": "02ed950c",
   "metadata": {},
   "outputs": [],
   "source": [
    "def metric_complete(metric,threshold):\n",
    "    iou, ds = metric\n",
    "    ds = ds[0:238]\n",
    "    TP = 0\n",
    "    FP = 0\n",
    "    FN = 0\n",
    "    for x in ds:\n",
    "        if(x>=threshold):\n",
    "            TP = TP + 1\n",
    "        else:\n",
    "            FP = FP + 1\n",
    "            FN = FN + 1\n",
    "    precision = TP/(TP+FP)\n",
    "    recall = TP/(TP+FN)\n",
    "    print(\"TP: \",TP,\"FP: \",FP,\"FN: \",FN,\"Precision: \",precision,\" Recall: \", recall,\" Threshold: \",threshold)"
   ]
  },
  {
   "cell_type": "code",
   "execution_count": 9,
   "id": "cebd24cc",
   "metadata": {},
   "outputs": [],
   "source": [
    "def map_To_Bbox_yolo_nuevo(saliencyMap, porcentage = 0.99):\n",
    "    maxValue = saliencyMap.max()\n",
    "    _, thresh = cv2.threshold(saliencyMap, int(porcentage*maxValue), 255, cv2.THRESH_BINARY)\n",
    "    contours, _ = cv2.findContours(thresh.astype(np.uint8), cv2.RETR_EXTERNAL, cv2.CHAIN_APPROX_SIMPLE)\n",
    "    #plt.imshow(thresh)\n",
    "    #plt.show()\n",
    "    #plt.close()\n",
    "    if len(contours) == 0:\n",
    "        return []\n",
    "    else:\n",
    "        #plt.imshow(thresh)\n",
    "    # Calcular el bounding box de cada contorno\n",
    "        bounding_boxes = []\n",
    "    \n",
    "        contours = sorted(contours, key=cv2.contourArea, reverse=True)[:]\n",
    "        for contour in contours:\n",
    "            bounding_box = cv2.boundingRect(contour)\n",
    "            x,y,w,h      = bounding_box\n",
    "            #print(bounding_box)\n",
    "            x = x + (w/2)\n",
    "            y = y + (h/2)\n",
    "            #print(x,y,w,h)\n",
    "            bounding_boxes.append((x,y,w,h))\n",
    "                     \n",
    "    return bounding_boxes"
   ]
  },
  {
   "cell_type": "code",
   "execution_count": 10,
   "id": "de5c74a2",
   "metadata": {},
   "outputs": [],
   "source": [
    "def get_label_nuevo(label):\n",
    "    with open(label, \"r\") as file:\n",
    "        # Leer todas las líneas del archivo\n",
    "        lines = file.readlines()\n",
    "    lines = lines[0].split(\" \")\n",
    "    #print(lines)\n",
    "    label = [float(num) for num in lines]\n",
    "    label = label[1:]\n",
    "    label = [x * 512 for x in label] \n",
    "    return label"
   ]
  },
  {
   "cell_type": "code",
   "execution_count": 11,
   "id": "0b9f3bd3",
   "metadata": {},
   "outputs": [],
   "source": [
    "###Escogiendo el mayor mostra ahora si plotenando bien\n",
    "##mostraremos todos lo mapas APC3 PC3 UC3\n",
    "def get_metric_mostrar_nuevo(folder,testsm1,testsm2,testsm3,testlabels,testoriginal,porcentage = 0.9):\n",
    "    tamm = len(testsm1)\n",
    "    iou_tt_1 = []\n",
    "    dice_score_tt_1 = []\n",
    "    iou_tt_2 = []\n",
    "    dice_score_tt_2 = []\n",
    "    iou_tt_3 = []\n",
    "    dice_score_tt_3 = []\n",
    "    \n",
    "    for i in range(tamm):\n",
    "        name_test1 = testsm1[i].split('/')[-1].split('.')[0]\n",
    "        name_test2 = testsm2[i].split('/')[-1].split('.')[0]\n",
    "        name_test3 = testsm3[i].split('/')[-1].split('.')[0]\n",
    "        name_label = testlabels[i].split('/')[-1].split('.')[0]\n",
    "        name_test_png = testoriginal[i].split('/')[-1].split('.')[0]\n",
    "        \n",
    "        if(name_test1 == name_label):\n",
    "            label = get_label_nuevo(testlabels[i])\n",
    "            \n",
    "            img1 = cv2.imread(testsm1[i])\n",
    "            gray1 = cv.cvtColor(img1, cv.COLOR_BGR2GRAY)\n",
    "            img2 = cv2.imread(testsm2[i])\n",
    "            gray2 = cv.cvtColor(img2, cv.COLOR_BGR2GRAY)\n",
    "            img3 = cv2.imread(testsm3[i])\n",
    "            gray3 = cv.cvtColor(img3, cv.COLOR_BGR2GRAY)\n",
    "            \n",
    "            \n",
    "            labels_generated1 = map_To_Bbox_yolo_nuevo(gray1, porcentage)\n",
    "            labels_generated2 = map_To_Bbox_yolo_nuevo(gray2, porcentage)\n",
    "            labels_generated3 = map_To_Bbox_yolo_nuevo(gray3, porcentage)\n",
    "            \n",
    "            iou_t1 = []\n",
    "            dice_score_t1 = []\n",
    "            \n",
    "            for label_generated1 in labels_generated1:\n",
    "                iou = getIOU_nuevo(label_generated1, label)\n",
    "                dice_score = getDiceScore_nuevo(label_generated1, label)\n",
    "                iou_t1.append(iou)\n",
    "                dice_score_t1.append(dice_score)\n",
    "        \n",
    "            iou1 = max(iou_t1)\n",
    "            dice_score1 = max(dice_score_t1)\n",
    "            \n",
    "            iou_t2 = []\n",
    "            dice_score_t2 = []\n",
    "            \n",
    "            for label_generated2 in labels_generated2:\n",
    "                iou = getIOU_nuevo(label_generated2, label)\n",
    "                dice_score = getDiceScore_nuevo(label_generated2, label)\n",
    "                iou_t2.append(iou)\n",
    "                dice_score_t2.append(dice_score)\n",
    "        \n",
    "            iou2 = max(iou_t2)\n",
    "            dice_score2 = max(dice_score_t2)\n",
    "            \n",
    "            iou_t3 = []\n",
    "            dice_score_t3 = []\n",
    "            \n",
    "            for label_generated3 in labels_generated3:\n",
    "                iou = getIOU_nuevo(label_generated3, label)\n",
    "                dice_score = getDiceScore_nuevo(label_generated3, label)\n",
    "                iou_t3.append(iou)\n",
    "                dice_score_t3.append(dice_score)\n",
    "        \n",
    "            iou3 = max(iou_t3)\n",
    "            dice_score3 = max(dice_score_t3)\n",
    "            \n",
    "    \n",
    "            if(name_test1 == name_test_png):\n",
    "                \n",
    "                position_dice_score1 = dice_score_t1.index(dice_score1)\n",
    "                labels_gene_max1 = labels_generated1[position_dice_score1]\n",
    "                #labels_gene_max1 = [x * 512 for x in labels_gene_max1] \n",
    "                \n",
    "                position_dice_score2 = dice_score_t2.index(dice_score2)\n",
    "                labels_gene_max2 = labels_generated2[position_dice_score2]\n",
    "                #labels_gene_max2 = [x * 512 for x in labels_gene_max2] \n",
    "                \n",
    "                position_dice_score3 = dice_score_t3.index(dice_score3)\n",
    "                labels_gene_max3 = labels_generated3[position_dice_score3]\n",
    "                #labels_gene_max3 = [x * 512 for x in labels_gene_max3] \n",
    "                \n",
    "                \n",
    "                #label = [x * 512 for x in label]\n",
    "                \n",
    "                x,y,w,h = label \n",
    "                x = (x-(w/2))\n",
    "                y = (y-(h/2))\n",
    "                \n",
    "                x1,y1,w1,h1 = labels_gene_max1\n",
    "                x1 = (x1-(w1/2))\n",
    "                y1 = (y1-(h1/2))\n",
    "                \n",
    "                x2,y2,w2,h2 = labels_gene_max2\n",
    "                x2 = (x2-(w2/2))\n",
    "                y2 = (y2-(h2/2))\n",
    "                \n",
    "                x3,y3,w3,h3 = labels_gene_max3\n",
    "                x3 = (x3-(w3/2))\n",
    "                y3 = (y3-(h3/2))\n",
    "                \n",
    "                \n",
    "                img_ori = cv2.imread(testoriginal[i])\n",
    "                fig, ax = plt.subplots(2, 4, figsize=(14, 7));\n",
    "                fig.suptitle('name: '+name_test_png+' porcentage: '+str(porcentage))\n",
    "                ax[0,0].imshow(img_ori, cmap='bone')\n",
    "                ax[0,0].title.set_text(name_test_png)\n",
    "                ax[0,0].axis('off')\n",
    "                ax[1,0].imshow(img_ori, cmap='bone')\n",
    "                ax[1,0].title.set_text(name_test_png)\n",
    "                rect = patches.Rectangle((x,y),w,h, linewidth=2, edgecolor='g', facecolor='none')\n",
    "                ax[1,0].add_patch(rect);\n",
    "                ax[1,0].axis('off')\n",
    "                \n",
    "                ax[0,1].imshow(gray1,cmap='jet')\n",
    "                ax[0,1].title.set_text(\"APC3\")\n",
    "                ax[0,1].axis('off')\n",
    "                ax[1,1].imshow(img_ori, cmap='bone')\n",
    "                ax[1,1].title.set_text('iou: '+str(round(iou1,5))+' DS: '+str(round(dice_score1,5)))\n",
    "                rect = patches.Rectangle((x,y),w,h, linewidth=2, edgecolor='g', facecolor='none')\n",
    "                ax[1,1].add_patch(rect);\n",
    "                rect1 = patches.Rectangle((x1,y1),w1,h1, linewidth=3, edgecolor='r', facecolor='none')\n",
    "                ax[1,1].add_patch(rect1);\n",
    "                ax[1,1].axis('off')\n",
    "                \n",
    "                \n",
    "                ax[0,2].imshow(gray2,cmap='jet')\n",
    "                ax[0,2].title.set_text(\"PC3\")\n",
    "                ax[0,2].axis('off')\n",
    "                ax[1,2].imshow(img_ori, cmap='bone')\n",
    "                ax[1,2].title.set_text('iou: '+str(round(iou2,5))+' DS: '+str(round(dice_score2,5)))\n",
    "                rect = patches.Rectangle((x,y),w,h, linewidth=2, edgecolor='g', facecolor='none')\n",
    "                ax[1,2].add_patch(rect);\n",
    "                rect2 = patches.Rectangle((x2,y2),w2,h2, linewidth=2, edgecolor='r', facecolor='none')\n",
    "                ax[1,2].add_patch(rect2);\n",
    "                ax[1,2].axis('off')\n",
    "                \n",
    "                ax[0,3].imshow(gray3,cmap='jet')\n",
    "                ax[0,3].title.set_text(\"UC3\")\n",
    "                ax[0,3].axis('off')\n",
    "                ax[1,3].imshow(img_ori, cmap='bone')\n",
    "                ax[1,3].title.set_text('iou: '+str(round(iou3,5))+' DS: '+str(round(dice_score3,5)))\n",
    "                rect = patches.Rectangle((x,y),w,h, linewidth=2, edgecolor='g', facecolor='none')\n",
    "                ax[1,3].add_patch(rect);\n",
    "                rect3 = patches.Rectangle((x3,y3),w3,h3, linewidth=2, edgecolor='r', facecolor='none')\n",
    "                ax[1,3].add_patch(rect3);\n",
    "                ax[1,3].axis('off')\n",
    "                #plt.show()\n",
    "                plt.savefig(f'results/{folder}/{name_test_png}', dpi=100, bbox_inches='tight',pad_inches=0);  #dpi=113.2\n",
    "                #plt.close();\n",
    "        #break"
   ]
  },
  {
   "cell_type": "code",
   "execution_count": 12,
   "id": "8bc0af9b",
   "metadata": {},
   "outputs": [],
   "source": [
    "def get_metric_g_nuevo(testsm,testlabels,porcentage = 0.9):  # g de gray\n",
    "    tamm = len(testsm)\n",
    "    iou_tt = []\n",
    "    dice_score_tt = []\n",
    "    for i in range(tamm):\n",
    "        name_test = testsm[i].split('/')[-1].split('.')[0]\n",
    "        name_label = testlabels[i].split('/')[-1].split('.')[0]\n",
    "        if(name_test == name_label):\n",
    "            label = get_label_nuevo(testlabels[i])\n",
    "            #print(label)\n",
    "            img = cv2.imread(testsm[i])\n",
    "            gray = cv.cvtColor(img, cv.COLOR_BGR2GRAY)\n",
    "            labels_generated = map_To_Bbox_yolo_nuevo(gray, porcentage)\n",
    "            #print(labels_generated)\n",
    "            iou_t = []\n",
    "            dice_score_t = []\n",
    "            #print(labels_generated)\n",
    "            for label_generated in labels_generated:\n",
    "                iou = getIOU_nuevo(label_generated, label)\n",
    "                dice_score = getDiceScore_nuevo(label_generated, label)\n",
    "                iou_t.append(iou)\n",
    "                dice_score_t.append(dice_score)\n",
    "            iou1 = max(iou_t)\n",
    "            #position_iou1 = iou_t.index(iou1)\n",
    "            #labels_gene_max = labels_generated[position_iou1]\n",
    "            #labels_gene_max = [x * 512 for x in labels_gene_max] \n",
    "            dice_score1 = max(dice_score_t)\n",
    "            #print(name_test, name_label, iou1, dice_score1)\n",
    "            iou_tt.append(iou1)\n",
    "            dice_score_tt.append(dice_score1)\n",
    "    dice_score_test = sum(dice_score_tt)/len(dice_score_tt)\n",
    "    iou_test = sum(iou_tt)/len(iou_tt)\n",
    "    iou_tt.append(iou_test)\n",
    "    dice_score_tt.append(dice_score_test)\n",
    "    print(\"IOU: \"+str(iou_test)+\" Dice_Score: \"+str(dice_score_test)+\" porcentage: \"+str(porcentage))\n",
    "    return iou_tt, dice_score_tt"
   ]
  },
  {
   "cell_type": "code",
   "execution_count": 13,
   "id": "defc0fc2",
   "metadata": {},
   "outputs": [],
   "source": [
    "def get_metric_g_nuevo_mostrar(testsm,testlabels,porcentage = 0.9):  # g de gray\n",
    "    tamm = len(testsm)\n",
    "    iou_tt = []\n",
    "    dice_score_tt = []\n",
    "    for i in range(tamm):\n",
    "        name_test = testsm[i].split('/')[-1].split('.')[0]\n",
    "        name_label = testlabels[i].split('/')[-1].split('.')[0]\n",
    "        if(name_test == name_label):\n",
    "            label = get_label_nuevo(testlabels[i])\n",
    "            #print(label)\n",
    "            img = cv2.imread(testsm[i])\n",
    "            gray = cv.cvtColor(img, cv.COLOR_BGR2GRAY)\n",
    "            labels_generated = map_To_Bbox_yolo_nuevo(gray, porcentage)\n",
    "            #print(labels_generated)\n",
    "            iou_t = []\n",
    "            dice_score_t = []\n",
    "            #print(labels_generated)\n",
    "            for label_generated in labels_generated:\n",
    "                iou = getIOU_nuevo(label_generated, label)\n",
    "                dice_score = getDiceScore_nuevo(label_generated, label)\n",
    "                iou_t.append(iou)\n",
    "                dice_score_t.append(dice_score)\n",
    "            iou1 = max(iou_t)\n",
    "            #position_iou1 = iou_t.index(iou1)\n",
    "            #labels_gene_max = labels_generated[position_iou1]\n",
    "            #labels_gene_max = [x * 512 for x in labels_gene_max] \n",
    "            dice_score1 = max(dice_score_t)\n",
    "            print(name_test, name_label, iou1, dice_score1)\n",
    "            iou_tt.append(iou1)\n",
    "            dice_score_tt.append(dice_score1)\n",
    "    dice_score_test = sum(dice_score_tt)/len(dice_score_tt)\n",
    "    iou_test = sum(iou_tt)/len(iou_tt)\n",
    "    iou_tt.append(iou_test)\n",
    "    dice_score_tt.append(dice_score_test)\n",
    "    print(\"IOU: \"+str(iou_test)+\" Dice_Score: \"+str(dice_score_test)+\" porcentage: \"+str(porcentage))\n",
    "    return iou_tt, dice_score_tt"
   ]
  },
  {
   "cell_type": "code",
   "execution_count": 31,
   "id": "2e5f50b7",
   "metadata": {},
   "outputs": [],
   "source": [
    "def getDiceScore_nuevo(box1, box2):\n",
    "    x1, y1, w1, h1 = box1\n",
    "    x2, y2, w2, h2 = box2\n",
    "    \n",
    "    x11 = round(x1 - ((w1)/2))\n",
    "    x111 = round(x1 + ((w1)/2))\n",
    "    y11 = round(y1 - ((h1)/2))\n",
    "    y111 = round(y1 + ((h1)/2))\n",
    "    x22 = round(x2 - ((w2)/2))\n",
    "    x222 = round(x2 + ((w2)/2))\n",
    "    y22 = round(y2 - ((h2)/2))\n",
    "    y222 = round(y2 + ((h2)/2))\n",
    "    #print(x11,y11,x111,y111)\n",
    "    #print(x22,y22,x222,y222)\n",
    "    bin_mask1 = np.zeros((512, 512))\n",
    "    bin_mask1[x11:x111, y11:y111] = 1\n",
    "    bin_mask2 = np.zeros((512, 512))\n",
    "    bin_mask2[x22:x222, y22:y222]= 1\n",
    "    intersection = np.sum(np.logical_and(bin_mask1, bin_mask2))\n",
    "    union = np.sum(np.logical_or(bin_mask1, bin_mask2))\n",
    "    dice_score = (2.0 * intersection) / (union + intersection)\n",
    "    #print(\"Dice score: \", dice_coef)\n",
    "    return dice_score\n",
    "    "
   ]
  },
  {
   "cell_type": "code",
   "execution_count": 14,
   "id": "b19df6cb",
   "metadata": {},
   "outputs": [],
   "source": [
    "def get_metric_nuevo(box1, box2):\n",
    "    x1, y1, w1, h1 = box1\n",
    "    x2, y2, w2, h2 = box2\n",
    "    \n",
    "    x11 = round(x1 - ((w1)/2))\n",
    "    x111 = round(x1 + ((w1)/2))\n",
    "    y11 = round(y1 - ((h1)/2))\n",
    "    y111 = round(y1 + ((h1)/2))\n",
    "    x22 = round(x2 - ((w2)/2))\n",
    "    x222 = round(x2 + ((w2)/2))\n",
    "    y22 = round(y2 - ((h2)/2))\n",
    "    y222 = round(y2 + ((h2)/2))\n",
    "    #print(x11,y11,x111,y111)\n",
    "    #print(x22,y22,x222,y222)\n",
    "    bin_mask1 = np.zeros((512, 512))\n",
    "    bin_mask1[x11:x111, y11:y111] = 1\n",
    "    bin_mask2 = np.zeros((512, 512))\n",
    "    bin_mask2[x22:x222, y22:y222]= 1\n",
    "    #intersection = np.sum(np.logical_and(bin_mask1, bin_mask2))\n",
    "    TP = np.sum(np.logical_and(bin_mask1, bin_mask2))\n",
    "    #union = np.sum(np.logical_or(bin_mask1, bin_mask2))\n",
    "    FN = np.sum(np.logical_and(bin_mask2,1))-TP #ground true\n",
    "    FP = np.sum(np.logical_and(bin_mask1,1))-TP\n",
    "    \n",
    "    #dice_coef = (2.0 * intersection) / (union + intersection)\n",
    "    dice = 2(TP)/(2(TP)+FP+FN)\n",
    "    presicion = TP/(TP+FP)\n",
    "    recall = TP/(TP+FN)\n",
    "    \n",
    "    #print(\"Dice score: \", dice)\n",
    "    return dice_coef, presicion, recall"
   ]
  },
  {
   "cell_type": "code",
   "execution_count": 15,
   "id": "e1923f10",
   "metadata": {},
   "outputs": [],
   "source": [
    "def get_metric_g_nuevo(testsm,testlabels,porcentage = 0.9):  # g de gray\n",
    "    tamm = len(testsm)\n",
    "    iou_tt = []\n",
    "    dice_score_tt = []\n",
    "    for i in range(tamm):\n",
    "        name_test = testsm[i].split('/')[-1].split('.')[0]\n",
    "        name_label = testlabels[i].split('/')[-1].split('.')[0]\n",
    "        if(name_test == name_label):\n",
    "            label = get_label_nuevo(testlabels[i])\n",
    "            #print(label)\n",
    "            img = cv2.imread(testsm[i])\n",
    "            gray = cv.cvtColor(img, cv.COLOR_BGR2GRAY)\n",
    "            labels_generated = map_To_Bbox_yolo_nuevo(gray, porcentage)\n",
    "            #print(labels_generated)\n",
    "            iou_t = []\n",
    "            dice_score_t = []\n",
    "            #print(labels_generated)\n",
    "            for label_generated in labels_generated:\n",
    "                iou = getIOU_nuevo(label_generated, label)\n",
    "                dice_score = getDiceScore_nuevo(label_generated, label)\n",
    "                iou_t.append(iou)\n",
    "                dice_score_t.append(dice_score)\n",
    "            iou1 = max(iou_t)\n",
    "            #position_iou1 = iou_t.index(iou1)\n",
    "            #labels_gene_max = labels_generated[position_iou1]\n",
    "            #labels_gene_max = [x * 512 for x in labels_gene_max] \n",
    "            dice_score1 = max(dice_score_t)\n",
    "            #print(name_test, name_label, iou1, dice_score1)\n",
    "            iou_tt.append(iou1)\n",
    "            dice_score_tt.append(dice_score1)\n",
    "    dice_score_test = sum(dice_score_tt)/len(dice_score_tt)\n",
    "    iou_test = sum(iou_tt)/len(iou_tt)\n",
    "    iou_tt.append(iou_test)\n",
    "    dice_score_tt.append(dice_score_test)\n",
    "    print(\"IOU: \"+str(iou_test)+\" Dice_Score: \"+str(dice_score_test)+\" Thershold: \"+str(porcentage))\n",
    "    return iou_tt, dice_score_tt"
   ]
  },
  {
   "cell_type": "code",
   "execution_count": 16,
   "id": "352c4c8e",
   "metadata": {},
   "outputs": [],
   "source": [
    "def getIOU_nuevo(box1, box2):\n",
    "    x1, y1, w1, h1 = box1\n",
    "    x2, y2, w2, h2 = box2\n",
    "    \n",
    "    x11 = round(x1 - ((w1)/2))\n",
    "    x111 = round(x1 + ((w1)/2))\n",
    "    y11 = round(y1 - ((h1)/2))\n",
    "    y111 = round(y1 + ((h1)/2))\n",
    "    x22 = round(x2 - ((w2)/2))\n",
    "    x222 = round(x2 + ((w2)/2))\n",
    "    y22 = round(y2 - ((h2)/2))\n",
    "    y222 = round(y2 + ((h2)/2))\n",
    "    #print(x11,y11,x111,y111)\n",
    "    #print(x22,y22,x222,y222)\n",
    "    bin_mask1 = np.zeros((512, 512))\n",
    "    bin_mask1[x11:x111, y11:y111] = 1\n",
    "    bin_mask2 = np.zeros((512, 512))\n",
    "    bin_mask2[x22:x222, y22:y222]= 1\n",
    "    intersection = np.sum(np.logical_and(bin_mask1, bin_mask2))\n",
    "    union = np.sum(np.logical_or(bin_mask1, bin_mask2))\n",
    "    iou = (intersection) / union\n",
    "    #print(\"Dice score: \", dice_coef)\n",
    "    return iou"
   ]
  },
  {
   "cell_type": "code",
   "execution_count": 38,
   "id": "550f41f7",
   "metadata": {},
   "outputs": [],
   "source": [
    "def regresion(x,y,evaluar):\n",
    "    print(x[0],x[1],y[0],y[1])\n",
    "    m = (y[1]-y[0])/(x[1]-x[0])\n",
    "    print(m)\n",
    "    y1 = m*(evaluar-x[0])+y[0]\n",
    "    print(\"x: \",evaluar,\"y: \",y1)\n",
    "    return evaluar,y1"
   ]
  },
  {
   "cell_type": "code",
   "execution_count": 24,
   "id": "bb00f1ff",
   "metadata": {},
   "outputs": [],
   "source": [
    "def metric_complete(saliencys,grounds_truth,porcentage,threshold,iteration):\n",
    "    tam_t = len(saliencys)\n",
    "    TP = 0 \n",
    "    FN = 0\n",
    "    FP = 0 \n",
    "    for i in range(tam_t):\n",
    "        TP1,FN1,FP1 = metric_slice(saliencys[i],grounds_truth[i],porcentage,threshold,iteration)\n",
    "        TP = TP + FP1\n",
    "        FN = FN + FN1\n",
    "        FP = FP + FP1\n",
    "    ##abajo calcular recall:\n",
    "    recall = TP / (TP+FN)\n",
    "    FP_mean = FP/tam_t\n",
    "    print(\"recall: \"+str(recall)+\" FP_mean: \"+str(FP_mean)+\" iteration: \"+str(iteration))\n",
    "    return recall,FP_mean,iteration"
   ]
  },
  {
   "cell_type": "code",
   "execution_count": 25,
   "id": "64f1e047",
   "metadata": {},
   "outputs": [],
   "source": [
    "def metric_slice(testsm,testlabel,porcentage,threshold,iteration):\n",
    "    name_test = testsm.split('/')[-1].split('.')[0]\n",
    "    name_label = testlabel.split('/')[-1].split('.')[0]\n",
    "    \n",
    "    if(name_test == name_label):\n",
    "        #print(name_test,name_label)\n",
    "        label = get_label_nuevo(testlabel)\n",
    "        img = cv2.imread(testsm)\n",
    "        gray = cv.cvtColor(img, cv.COLOR_BGR2GRAY)\n",
    "        #plt.imshow(gray, cmap='jet')\n",
    "        #plt.show()\n",
    "        #plt.close()\n",
    "        \n",
    "    dice_score_c = []\n",
    "    labels_generated_c = []\n",
    "    \n",
    "    for i in range(iteration):\n",
    "        labels_generated = map_To_Bbox_yolo_nuevo(gray,porcentage)\n",
    "        label_generated, dice_score = best_dice_score(label,labels_generated)\n",
    "        dice_score_c.append(dice_score)\n",
    "        labels_generated_c.append(label_generated)\n",
    "        gray1 = new_saliency_map(gray,label_generated)\n",
    "        #plt.imshow(gray1)\n",
    "        #plt.show()\n",
    "        #plt.close()\n",
    "        \n",
    "    #print(dice_score_c)\n",
    "    #print(labels_generated_c)\n",
    "    i_max = dice_score_c.index(max(dice_score_c))\n",
    "    #print(dice_score_c[i_max], labels_generated_c[i_max])\n",
    "    \n",
    "    if(dice_score_c[i_max]>=threshold):\n",
    "        TP = 1\n",
    "        FN = 0\n",
    "        FP = sum(1 for i in dice_score_c if i<threshold)\n",
    "    else:\n",
    "        TP = 0\n",
    "        FN = 1\n",
    "        FP = sum(1 for i in dice_score_c if i<threshold)\n",
    "    #print(TP,FN,FP)\n",
    "    \n",
    "    return TP,FN,FP"
   ]
  },
  {
   "cell_type": "code",
   "execution_count": 17,
   "id": "264820f4",
   "metadata": {},
   "outputs": [
    {
     "name": "stdout",
     "output_type": "stream",
     "text": [
      "TP:  2500  FP:  0  FN:  7500 Union:  10000  intersection:  2500\n"
     ]
    }
   ],
   "source": [
    "bin_mask1 = np.zeros((512, 512))\n",
    "bin_mask1[0:100, 0:100] = 1\n",
    "bin_mask2 = np.zeros((512, 512))\n",
    "bin_mask2[50:100, 50:100]= 1\n",
    "intersection = np.sum(np.logical_and(bin_mask1, bin_mask2))\n",
    "TP = intersection\n",
    "union = np.sum(np.logical_or(bin_mask1, bin_mask2))\n",
    "FP = np.sum(np.logical_and(bin_mask2,1))-TP\n",
    "FN = np.sum(np.logical_and(bin_mask1,1))-TP\n",
    "print(\"TP: \",TP,\" FP: \",FP,\" FN: \",FN, \"Union: \",union,\" intersection: \",intersection)"
   ]
  },
  {
   "cell_type": "code",
   "execution_count": 59,
   "id": "c1d7e7d9",
   "metadata": {},
   "outputs": [],
   "source": [
    "test0265 = '/home/dylanvr/Mi proyecto de grado/Proyecto_Guaya/datasetS/test/images/0265_P0159-74.png'"
   ]
  },
  {
   "cell_type": "code",
   "execution_count": 61,
   "id": "a7119c0b",
   "metadata": {},
   "outputs": [],
   "source": [
    "label0265 = '/home/dylanvr/Mi proyecto de grado/Proyecto_Guaya/datasetS/labels/test/0265_P0159-74.txt'"
   ]
  },
  {
   "cell_type": "code",
   "execution_count": 64,
   "id": "c3460912",
   "metadata": {},
   "outputs": [],
   "source": [
    "import matplotlib.pyplot as plt"
   ]
  },
  {
   "cell_type": "code",
   "execution_count": 71,
   "id": "ac8f82ff",
   "metadata": {},
   "outputs": [
    {
     "data": {
      "image/png": "[encoded data removed]",
      "text/plain": [
       "<Figure size 432x288 with 1 Axes>"
      ]
     },
     "metadata": {
      "needs_background": "light"
     },
     "output_type": "display_data"
    }
   ],
   "source": [
    "name_test1 = test0265.split('/')[-1].split('.')[0]\n",
    "name_label = test0265.split('/')[-1].split('.')[0]\n",
    "img_ori = cv2.imread(test0265)\n",
    "label = get_label_nuevo(label0265)\n",
    "x,y,w,h = label\n",
    "x = (x-(w/2))\n",
    "y = (y-(h/2))\n",
    "fig, ax = plt.subplots();\n",
    "ax.imshow(img_ori, cmap='bone')\n",
    "ax.axis('off')\n",
    "rect = patches.Rectangle((x,y),w,h, linewidth=2, edgecolor='r', facecolor='none')\n",
    "ax.add_patch(rect)\n",
    "plt.savefig('0265.png',dpi=169.8,bbox_inches='tight',pad_inches=0)"
   ]
  },
  {
   "cell_type": "markdown",
   "id": "c6ea5406",
   "metadata": {},
   "source": [
    "### Carpeta"
   ]
  },
  {
   "cell_type": "code",
   "execution_count": 18,
   "id": "32cc9ca0",
   "metadata": {},
   "outputs": [],
   "source": [
    "testoriginal = sorted(glob.glob('/home/dylanvr/Mi proyecto de grado/Proyecto_Guaya/datasetS/test/images/*png'))"
   ]
  },
  {
   "cell_type": "code",
   "execution_count": 19,
   "id": "06b41903",
   "metadata": {},
   "outputs": [],
   "source": [
    "testlabels = sorted(glob.glob('/home/dylanvr/Mi proyecto de grado/Proyecto_Guaya/datasetS/labels/test/*txt'))"
   ]
  },
  {
   "cell_type": "code",
   "execution_count": 20,
   "id": "8af92146",
   "metadata": {},
   "outputs": [],
   "source": [
    "testsm_P_MUC3 = sorted(glob.glob('/home/dylanvr/Mi proyecto de grado/yolo/yolov5/results/best_propoused/MUC3/*png'))"
   ]
  },
  {
   "cell_type": "code",
   "execution_count": 22,
   "id": "5e76489d",
   "metadata": {},
   "outputs": [],
   "source": [
    "testsm_P_MPC3 = sorted(glob.glob('/home/dylanvr/Mi proyecto de grado/yolo/yolov5/results/best_propoused/MPC3/*png'))"
   ]
  },
  {
   "cell_type": "code",
   "execution_count": 45,
   "id": "54401e23",
   "metadata": {},
   "outputs": [],
   "source": [
    "testsm_P_MAPC3 = sorted(glob.glob('/home/dylanvr/Mi proyecto de grado/yolo/yolov5/results/best_propoused/MAPC3/*png'))"
   ]
  },
  {
   "cell_type": "markdown",
   "id": "3599a0c9",
   "metadata": {},
   "source": [
    "### Metric Yolo_2"
   ]
  },
  {
   "cell_type": "code",
   "execution_count": 469,
   "id": "a01a7c89",
   "metadata": {},
   "outputs": [],
   "source": [
    "porcentage = 0.9\n",
    "testsm3 = testsm_D_MUC3\n",
    "tamm = len(testsm3)\n",
    "iou_tt_3 = []\n",
    "dice_score_tt_3 = []\n",
    "name_test3 = testsm3[0].split('/')[-1].split('.')[0]\n",
    "name_label = testlabels[0].split('/')[-1].split('.')[0]\n",
    "name_test_png = testoriginal[0].split('/')[-1].split('.')[0]"
   ]
  },
  {
   "cell_type": "code",
   "execution_count": 470,
   "id": "bad2c336",
   "metadata": {},
   "outputs": [
    {
     "name": "stdout",
     "output_type": "stream",
     "text": [
      "0003_P0001-90 0003_P0001-90\n"
     ]
    },
    {
     "data": {
      "image/png": "[encoded data removed]",
      "text/plain": [
       "<Figure size 432x288 with 1 Axes>"
      ]
     },
     "metadata": {
      "needs_background": "light"
     },
     "output_type": "display_data"
    }
   ],
   "source": [
    "if(name_test3 == name_label):\n",
    "    print(name_test3,name_label)\n",
    "    label = get_label_nuevo(testlabels[0])\n",
    "    img3 = cv2.imread(testsm3[0])\n",
    "    gray3 = cv.cvtColor(img3, cv.COLOR_BGR2GRAY)\n",
    "    plt.imshow(gray3, cmap='jet')"
   ]
  },
  {
   "cell_type": "code",
   "execution_count": 471,
   "id": "478060a8",
   "metadata": {},
   "outputs": [],
   "source": [
    "labels_generated3 = map_To_Bbox_yolo_nuevo(gray3, porcentage)"
   ]
  },
  {
   "cell_type": "code",
   "execution_count": 472,
   "id": "fef41610",
   "metadata": {},
   "outputs": [],
   "source": [
    "best_ds = best_dice_score(label,labels_generated3)"
   ]
  },
  {
   "cell_type": "code",
   "execution_count": 473,
   "id": "ac2e7580",
   "metadata": {},
   "outputs": [
    {
     "data": {
      "text/plain": [
       "(311.5, 362.5, 75, 59)"
      ]
     },
     "execution_count": 473,
     "metadata": {},
     "output_type": "execute_result"
    }
   ],
   "source": [
    "best_ds[0]"
   ]
  },
  {
   "cell_type": "code",
   "execution_count": 474,
   "id": "6a986e61",
   "metadata": {},
   "outputs": [
    {
     "data": {
      "image/png": "[encoded data removed]",
      "text/plain": [
       "<Figure size 432x288 with 1 Axes>"
      ]
     },
     "metadata": {
      "needs_background": "light"
     },
     "output_type": "display_data"
    }
   ],
   "source": [
    "dice_score_c = []\n",
    "labels_generated_c = []\n",
    "for i in range(1):\n",
    "    labels_generated = map_To_Bbox_yolo_nuevo(gray3, 0.9)\n",
    "    label_generated, dice_score = best_dice_score(label,labels_generated)\n",
    "    dice_score_c.append(dice_score)\n",
    "    labels_generated_c.append(label_generated)\n",
    "    gray33 = new_saliency_map(gray3,label_generated)\n",
    "    plt.imshow(gray3)\n",
    "    plt.show()\n",
    "    plt.close()"
   ]
  },
  {
   "cell_type": "code",
   "execution_count": 475,
   "id": "ffd11400",
   "metadata": {},
   "outputs": [
    {
     "data": {
      "text/plain": [
       "[0.6816624460002979]"
      ]
     },
     "execution_count": 475,
     "metadata": {},
     "output_type": "execute_result"
    }
   ],
   "source": [
    "dice_score_c"
   ]
  },
  {
   "cell_type": "code",
   "execution_count": 476,
   "id": "91b2524d",
   "metadata": {},
   "outputs": [
    {
     "data": {
      "text/plain": [
       "[(311.5, 362.5, 75, 59)]"
      ]
     },
     "execution_count": 476,
     "metadata": {},
     "output_type": "execute_result"
    }
   ],
   "source": [
    "labels_generated_c"
   ]
  },
  {
   "cell_type": "code",
   "execution_count": 447,
   "id": "2aa0471a",
   "metadata": {},
   "outputs": [],
   "source": [
    "i_max = dice_score_c.index(max(dice_score_c))"
   ]
  },
  {
   "cell_type": "code",
   "execution_count": 448,
   "id": "b1e15212",
   "metadata": {},
   "outputs": [
    {
     "name": "stdout",
     "output_type": "stream",
     "text": [
      "0.6438722386379626\n"
     ]
    }
   ],
   "source": [
    "print(dice_score_c[i_max])"
   ]
  },
  {
   "cell_type": "code",
   "execution_count": 449,
   "id": "c4868511",
   "metadata": {},
   "outputs": [
    {
     "name": "stdout",
     "output_type": "stream",
     "text": [
      "(311.5, 361.5, 79, 61)\n"
     ]
    }
   ],
   "source": [
    "print(labels_generated_c[i_max])"
   ]
  },
  {
   "cell_type": "code",
   "execution_count": 450,
   "id": "03e2434f",
   "metadata": {},
   "outputs": [],
   "source": [
    "threshold = 0.05"
   ]
  },
  {
   "cell_type": "code",
   "execution_count": 479,
   "id": "5be741ff",
   "metadata": {},
   "outputs": [],
   "source": [
    "if(dice_score_c[i_max]>=threshold):\n",
    "    TP1 = 1\n",
    "    FN1 = 0\n",
    "    FP1 = sum(1 for i in dice_score_c if i<threshold)\n",
    "else:\n",
    "    TP1 = 0\n",
    "    FN1 = 1\n",
    "    FP1 = sum(1 for i in dice_score_c if i<threshold)"
   ]
  },
  {
   "cell_type": "code",
   "execution_count": 480,
   "id": "50d9b63a",
   "metadata": {},
   "outputs": [
    {
     "name": "stdout",
     "output_type": "stream",
     "text": [
      "1 0 0\n"
     ]
    }
   ],
   "source": [
    "print(TP1,FN1,FP1)"
   ]
  },
  {
   "cell_type": "markdown",
   "id": "b06dd9ef",
   "metadata": {},
   "source": [
    "### UC3"
   ]
  },
  {
   "cell_type": "code",
   "execution_count": 32,
   "id": "ad9653cf",
   "metadata": {},
   "outputs": [
    {
     "name": "stdout",
     "output_type": "stream",
     "text": [
      "recall: 0.5 FP_mean: 0.9873949579831933 iteration: 1\n"
     ]
    },
    {
     "data": {
      "text/plain": [
       "(0.5, 0.9873949579831933, 1)"
      ]
     },
     "execution_count": 32,
     "metadata": {},
     "output_type": "execute_result"
    }
   ],
   "source": [
    "porcentage = 0.96\n",
    "threshold = 0.05\n",
    "iteration = 1\n",
    "metric_complete(testsm_P_MUC3,testlabels,porcentage,threshold,iteration)"
   ]
  },
  {
   "cell_type": "code",
   "execution_count": 33,
   "id": "f333bb5d",
   "metadata": {},
   "outputs": [
    {
     "name": "stdout",
     "output_type": "stream",
     "text": [
      "1\n",
      "recall: 0.5 FP_mean: 0.9873949579831933 iteration: 1\n",
      "2\n",
      "recall: 0.6690442225392297 FP_mean: 1.9705882352941178 iteration: 2\n",
      "3\n",
      "recall: 0.7542918454935622 FP_mean: 2.953781512605042 iteration: 3\n",
      "4\n",
      "recall: 0.8051502145922746 FP_mean: 3.9411764705882355 iteration: 4\n",
      "5\n",
      "recall: 0.8386866523911491 FP_mean: 4.936974789915967 iteration: 5\n",
      "6\n",
      "recall: 0.8628291488058788 FP_mean: 5.920168067226891 iteration: 6\n",
      "7\n",
      "recall: 0.880277926242651 FP_mean: 6.920168067226891 iteration: 7\n",
      "8\n",
      "recall: 0.8940114068441065 FP_mean: 7.9033613445378155 iteration: 8\n",
      "9\n",
      "recall: 0.9047008547008547 FP_mean: 8.894957983193278 iteration: 9\n",
      "10\n",
      "recall: 0.9138198757763976 FP_mean: 9.890756302521009 iteration: 10\n",
      "11\n",
      "recall: 0.9210526315789473 FP_mean: 10.882352941176471 iteration: 11\n",
      "12\n",
      "recall: 0.9271653543307087 FP_mean: 11.873949579831933 iteration: 12\n",
      "13\n",
      "recall: 0.9324200913242009 FP_mean: 12.869747899159664 iteration: 13\n"
     ]
    }
   ],
   "source": [
    "### voy hacerlo para n interaciones:\n",
    "for x in range(1,14):\n",
    "    print(x)\n",
    "    metric_complete(testsm_P_MUC3,testlabels,porcentage,threshold,x)\n",
    "    #break"
   ]
  },
  {
   "cell_type": "code",
   "execution_count": 39,
   "id": "3eb1a774",
   "metadata": {},
   "outputs": [
    {
     "name": "stdout",
     "output_type": "stream",
     "text": [
      "7.9033613445378155 8.894957983193278 0.8940114068441065 0.9047008547008547\n",
      "0.010780036397907073\n",
      "x:  8 y:  0.8950531750674336\n"
     ]
    }
   ],
   "source": [
    "x8 = [7.9033613445378155,8.894957983193278]\n",
    "y8 = [0.8940114068441065,0.9047008547008547]\n",
    "evaluar = 8\n",
    "for8 = regresion(x8,y8,evaluar)"
   ]
  },
  {
   "cell_type": "code",
   "execution_count": 40,
   "id": "67e3e53a",
   "metadata": {},
   "outputs": [
    {
     "name": "stdout",
     "output_type": "stream",
     "text": [
      "3.9411764705882355 4.936974789915967 0.8051502145922746 0.8386866523911491\n",
      "0.033677941755831775\n",
      "x:  4 y:  0.8071312699896765\n"
     ]
    }
   ],
   "source": [
    "x4 = [3.9411764705882355,4.936974789915967]\n",
    "y4 = [0.8051502145922746,0.8386866523911491]\n",
    "evaluar = 4\n",
    "for4 = regresion(x4,y4,evaluar)"
   ]
  },
  {
   "cell_type": "code",
   "execution_count": 41,
   "id": "ce1234d4",
   "metadata": {},
   "outputs": [
    {
     "name": "stdout",
     "output_type": "stream",
     "text": [
      "1.9705882352941178 2.953781512605042 0.6690442225392297 0.7542918454935622\n",
      "0.0867048472783382\n",
      "x:  2 y:  0.6715943651062396\n"
     ]
    }
   ],
   "source": [
    "x2 = [1.9705882352941178,2.953781512605042]\n",
    "y2 = [0.6690442225392297,0.7542918454935622]\n",
    "evaluar = 2\n",
    "for2 = regresion(x2,y2,evaluar)"
   ]
  },
  {
   "cell_type": "code",
   "execution_count": 42,
   "id": "d2fc2dbc",
   "metadata": {},
   "outputs": [
    {
     "name": "stdout",
     "output_type": "stream",
     "text": [
      "0.9873949579831933 1.9705882352941178 0.5 0.6690442225392297\n",
      "0.1719338673689601\n",
      "x:  1 y:  0.5021672336222978\n"
     ]
    }
   ],
   "source": [
    "x1 = [0.9873949579831933, 1.9705882352941178]\n",
    "y1 = [0.5, 0.6690442225392297]\n",
    "evaluar = 1\n",
    "for1 = regresion(x1,y1,evaluar)"
   ]
  },
  {
   "cell_type": "code",
   "execution_count": 43,
   "id": "bcfb2829",
   "metadata": {},
   "outputs": [
    {
     "name": "stdout",
     "output_type": "stream",
     "text": [
      "0.7189865109464119\n"
     ]
    }
   ],
   "source": [
    "SUMACPM = 0.5021672336222978 + 0.6715943651062396 + 0.8071312699896765 + 0.8950531750674336\n",
    "CPM = SUMACPM/4\n",
    "print(CPM)"
   ]
  },
  {
   "cell_type": "markdown",
   "id": "137fd343",
   "metadata": {},
   "source": [
    "### Para la capa otra capa testsm_D_MPC3"
   ]
  },
  {
   "cell_type": "code",
   "execution_count": 34,
   "id": "3917a96d",
   "metadata": {},
   "outputs": [
    {
     "name": "stdout",
     "output_type": "stream",
     "text": [
      "1\n",
      "recall: 0.5 FP_mean: 0.9117647058823529 iteration: 1\n",
      "2\n",
      "recall: 0.6781045751633987 FP_mean: 1.7436974789915967 iteration: 2\n",
      "3\n",
      "recall: 0.7675276752767528 FP_mean: 2.6218487394957983 iteration: 3\n",
      "4\n",
      "recall: 0.8182701652089407 FP_mean: 3.53781512605042 iteration: 4\n",
      "5\n",
      "recall: 0.8523274478330658 FP_mean: 4.46218487394958 iteration: 5\n",
      "6\n",
      "recall: 0.8773006134969326 FP_mean: 5.407563025210084 iteration: 6\n",
      "7\n",
      "recall: 0.8937685459940653 FP_mean: 6.3277310924369745 iteration: 7\n",
      "8\n",
      "recall: 0.9073196419167984 FP_mean: 7.239495798319328 iteration: 8\n",
      "9\n",
      "recall: 0.918241965973535 FP_mean: 8.163865546218487 iteration: 9\n",
      "10\n",
      "recall: 0.927592116538132 FP_mean: 9.096638655462185 iteration: 10\n",
      "11\n",
      "recall: 0.934375 FP_mean: 10.050420168067227 iteration: 11\n"
     ]
    }
   ],
   "source": [
    "### voy hacerlo para n interaciones:\n",
    "for x in range(1,12):\n",
    "    print(x)\n",
    "    metric_complete(testsm_P_MPC3,testlabels,porcentage,threshold,x)\n",
    "    #break"
   ]
  },
  {
   "cell_type": "code",
   "execution_count": 47,
   "id": "2da4922c",
   "metadata": {},
   "outputs": [
    {
     "name": "stdout",
     "output_type": "stream",
     "text": [
      "7.239495798319328 8.163865546218487 0.9073196419167984 0.918241965973535\n",
      "0.011815968752287843\n",
      "x:  8 y:  0.9163057357998408\n"
     ]
    }
   ],
   "source": [
    "x8 = [7.239495798319328, 8.163865546218487]\n",
    "y8 = [0.9073196419167984, 0.918241965973535 ]\n",
    "evaluar = 8\n",
    "for05 = regresion(x8,y8,evaluar)"
   ]
  },
  {
   "cell_type": "code",
   "execution_count": 48,
   "id": "a64cf911",
   "metadata": {},
   "outputs": [
    {
     "name": "stdout",
     "output_type": "stream",
     "text": [
      "3.53781512605042 4.46218487394958 0.8182701652089407 0.8523274478330658\n",
      "0.03684378756609897\n",
      "x:  4 y:  0.8352988065210032\n"
     ]
    }
   ],
   "source": [
    "x4 = [3.53781512605042, 4.46218487394958]\n",
    "y4 = [0.8182701652089407, 0.8523274478330658]\n",
    "evaluar = 4\n",
    "for05 = regresion(x4,y4,evaluar)"
   ]
  },
  {
   "cell_type": "code",
   "execution_count": 49,
   "id": "a558ab76",
   "metadata": {},
   "outputs": [
    {
     "name": "stdout",
     "output_type": "stream",
     "text": [
      "1.7436974789915967 2.6218487394957983 0.6781045751633987 0.7675276752767528\n",
      "0.10183109008123575\n",
      "x:  2 y:  0.7042041402682533\n"
     ]
    }
   ],
   "source": [
    "x2 = [1.7436974789915967, 2.6218487394957983]\n",
    "y2 = [0.6781045751633987, 0.7675276752767528]\n",
    "evaluar = 2\n",
    "for02 = regresion(x2,y2,evaluar)"
   ]
  },
  {
   "cell_type": "code",
   "execution_count": 57,
   "id": "26b553ab",
   "metadata": {},
   "outputs": [
    {
     "name": "stdout",
     "output_type": "stream",
     "text": [
      "0.9117647058823529 1.7436974789915967 0.5 0.6781045751633987\n",
      "0.21408529741863078\n",
      "x:  1 y:  0.5188898791839969\n"
     ]
    }
   ],
   "source": [
    "x1 = [0.9117647058823529,1.7436974789915967]\n",
    "y1 = [0.5,0.6781045751633987]\n",
    "evaluar = 1\n",
    "for01 = regresion(x1,y1,evaluar)"
   ]
  },
  {
   "cell_type": "code",
   "execution_count": 58,
   "id": "660798a2",
   "metadata": {},
   "outputs": [
    {
     "name": "stdout",
     "output_type": "stream",
     "text": [
      "0.7436746404432735\n"
     ]
    }
   ],
   "source": [
    "SUMACAPM = 0.5188898791839969 + 0.7042041402682533 + 0.8352988065210032 + 0.9163057357998408\n",
    "CPMAP = SUMACAPM/4\n",
    "print(CPMAP)"
   ]
  },
  {
   "cell_type": "markdown",
   "id": "846a1e27",
   "metadata": {},
   "source": [
    "### Para la capa otra capa testsm_D_MAPC3"
   ]
  },
  {
   "cell_type": "code",
   "execution_count": 46,
   "id": "8ef5cf2b",
   "metadata": {
    "scrolled": true
   },
   "outputs": [
    {
     "name": "stdout",
     "output_type": "stream",
     "text": [
      "1\n",
      "recall: 0.5 FP_mean: 0.957983193277311 iteration: 1\n",
      "2\n",
      "recall: 0.6897689768976898 FP_mean: 1.7563025210084033 iteration: 2\n",
      "3\n",
      "recall: 0.7780487804878049 FP_mean: 2.680672268907563 iteration: 3\n",
      "4\n",
      "recall: 0.8277511961722488 FP_mean: 3.634453781512605 iteration: 4\n",
      "5\n",
      "recall: 0.85973207249803 FP_mean: 4.584033613445378 iteration: 5\n",
      "6\n",
      "recall: 0.8821954484605087 FP_mean: 5.53781512605042 iteration: 6\n",
      "7\n",
      "recall: 0.8990075890251021 FP_mean: 6.470588235294118 iteration: 7\n",
      "8\n",
      "recall: 0.9110539845758355 FP_mean: 7.445378151260504 iteration: 8\n",
      "9\n",
      "recall: 0.9205693296602387 FP_mean: 8.42436974789916 iteration: 9\n",
      "10\n",
      "recall: 0.9286010792860108 FP_mean: 9.399159663865547 iteration: 10\n",
      "11\n",
      "recall: 0.9349470499243571 FP_mean: 10.38655462184874 iteration: 11\n"
     ]
    }
   ],
   "source": [
    "### voy hacerlo para n interaciones:\n",
    "for x in range(1,12):\n",
    "    print(x)\n",
    "    metric_complete(testsm_P_MAPC3,testlabels,porcentage,threshold,x)\n",
    "    #break"
   ]
  },
  {
   "cell_type": "code",
   "execution_count": 52,
   "id": "f4238b9c",
   "metadata": {},
   "outputs": [
    {
     "name": "stdout",
     "output_type": "stream",
     "text": [
      "7.445378151260504 8.42436974789916 0.9110539845758355 0.9205693296602387\n",
      "0.009719537039004142\n",
      "x:  8 y:  0.9164446521773\n"
     ]
    }
   ],
   "source": [
    "x8 = [7.445378151260504, 8.42436974789916]\n",
    "y8 = [0.9110539845758355, 0.9205693296602387]\n",
    "evaluar = 8\n",
    "for05 = regresion(x8,y8,evaluar)"
   ]
  },
  {
   "cell_type": "code",
   "execution_count": 53,
   "id": "b38c3661",
   "metadata": {},
   "outputs": [
    {
     "name": "stdout",
     "output_type": "stream",
     "text": [
      "3.634453781512605 4.584033613445378 0.8277511961722488 0.85973207249803\n",
      "0.033678975953698766\n",
      "x:  4 y:  0.8400624184746512\n"
     ]
    }
   ],
   "source": [
    "x4 = [3.634453781512605, 4.584033613445378]\n",
    "y4 = [0.8277511961722488, 0.85973207249803]\n",
    "evaluar = 4\n",
    "for04 = regresion(x4,y4,evaluar)"
   ]
  },
  {
   "cell_type": "code",
   "execution_count": 54,
   "id": "5b0d5ba7",
   "metadata": {},
   "outputs": [
    {
     "name": "stdout",
     "output_type": "stream",
     "text": [
      "1.7563025210084033 2.680672268907563 0.6897689768976898 0.7780487804878049\n",
      "0.09550269661112455\n",
      "x:  2 y:  0.7130427432987202\n"
     ]
    }
   ],
   "source": [
    "x2 = [1.7563025210084033,2.680672268907563]\n",
    "y2 = [0.6897689768976898,0.7780487804878049]\n",
    "evaluar = 2\n",
    "for02 = regresion(x2,y2,evaluar)"
   ]
  },
  {
   "cell_type": "code",
   "execution_count": 55,
   "id": "6f9c6569",
   "metadata": {},
   "outputs": [
    {
     "name": "stdout",
     "output_type": "stream",
     "text": [
      "0.957983193277311 1.7563025210084033 0.5 0.6897689768976898\n",
      "0.23771061316657985\n",
      "x:  1 y:  0.5099878408893521\n"
     ]
    }
   ],
   "source": [
    "x1 = [0.957983193277311,1.7563025210084033]\n",
    "y1 = [0.5,0.6897689768976898]\n",
    "evaluar = 1\n",
    "for02 = regresion(x1,y1,evaluar)"
   ]
  },
  {
   "cell_type": "code",
   "execution_count": 56,
   "id": "eb2b35e1",
   "metadata": {},
   "outputs": [
    {
     "name": "stdout",
     "output_type": "stream",
     "text": [
      "0.7448844137100059\n"
     ]
    }
   ],
   "source": [
    "SUMACAPM = 0.5099878408893521 + 0.7130427432987202 + 0.8400624184746512 + 0.9164446521773\n",
    "CPMAP = SUMACAPM/4\n",
    "print(CPMAP)"
   ]
  },
  {
   "cell_type": "markdown",
   "id": "08fb0f7f",
   "metadata": {},
   "source": [
    "### Cambiando el thrshold"
   ]
  },
  {
   "cell_type": "markdown",
   "id": "834447fe",
   "metadata": {},
   "source": [
    "#### para un threshold = 0.4"
   ]
  },
  {
   "cell_type": "code",
   "execution_count": 609,
   "id": "5a18f038",
   "metadata": {},
   "outputs": [
    {
     "name": "stdout",
     "output_type": "stream",
     "text": [
      "recall: 0.5 FP_mean: 0.9495798319327731 iteration: 1\n"
     ]
    },
    {
     "data": {
      "text/plain": [
       "(0.5, 0.9495798319327731, 1)"
      ]
     },
     "execution_count": 609,
     "metadata": {},
     "output_type": "execute_result"
    }
   ],
   "source": [
    "porcentage = 0.96\n",
    "threshold = 0.4\n",
    "iteration = 1\n",
    "metric_complete(testsm_D_MAPC3,testlabels,porcentage,threshold,iteration)"
   ]
  },
  {
   "cell_type": "code",
   "execution_count": 610,
   "id": "bd502bea",
   "metadata": {},
   "outputs": [
    {
     "name": "stdout",
     "output_type": "stream",
     "text": [
      "1\n",
      "recall: 0.5 FP_mean: 0.9495798319327731 iteration: 1\n",
      "2\n",
      "recall: 0.6705882352941176 FP_mean: 1.915966386554622 iteration: 2\n",
      "3\n",
      "recall: 0.7551912568306011 FP_mean: 2.903361344537815 iteration: 3\n",
      "4\n",
      "recall: 0.8053866203301477 FP_mean: 3.8949579831932772 iteration: 4\n",
      "5\n",
      "recall: 0.8386167146974063 FP_mean: 4.890756302521009 iteration: 5\n",
      "6\n",
      "recall: 0.8622386223862238 FP_mean: 5.890756302521009 iteration: 6\n",
      "7\n",
      "recall: 0.8798283261802575 FP_mean: 6.890756302521009 iteration: 7\n",
      "8\n",
      "recall: 0.8933333333333333 FP_mean: 7.882352941176471 iteration: 8\n",
      "9\n",
      "recall: 0.904150620453573 FP_mean: 8.878151260504202 iteration: 9\n",
      "10\n",
      "recall: 0.913009708737864 FP_mean: 9.878151260504202 iteration: 10\n",
      "11\n",
      "recall: 0.9203697120511909 FP_mean: 10.878151260504202 iteration: 11\n"
     ]
    }
   ],
   "source": [
    "### voy hacerlo para n interaciones:\n",
    "for x in range(1,12):\n",
    "    print(x)\n",
    "    metric_complete(testsm_D_MAPC3,testlabels,porcentage,threshold,x)\n",
    "    #break"
   ]
  },
  {
   "cell_type": "code",
   "execution_count": 612,
   "id": "ee061269",
   "metadata": {},
   "outputs": [
    {
     "name": "stdout",
     "output_type": "stream",
     "text": [
      "0.9159663865546218 8.878151260504202 0.8933333333333333 0.904150620453573\n",
      "0.010862929681928436\n",
      "x:  8 y:  0.894611325060619\n"
     ]
    }
   ],
   "source": [
    "x8 = [7.882352941176471,8.878151260504202]\n",
    "y8 = [0.8933333333333333,0.904150620453573]\n",
    "evaluar = 8\n",
    "for4 = regresion(x8,y8,evaluar)"
   ]
  },
  {
   "cell_type": "code",
   "execution_count": 616,
   "id": "734a9b0c",
   "metadata": {},
   "outputs": [
    {
     "name": "stdout",
     "output_type": "stream",
     "text": [
      "0.9159663865546218 4.890756302521009 0.8053866203301477 0.8386167146974063\n",
      "0.03337030573589675\n",
      "x:  4 y:  0.8088919045461033\n"
     ]
    }
   ],
   "source": [
    "x4 = [3.8949579831932772,4.890756302521009]\n",
    "y4 = [0.8053866203301477,0.8386167146974063]\n",
    "evaluar = 4\n",
    "for4 = regresion(x4,y4,evaluar)"
   ]
  },
  {
   "cell_type": "code",
   "execution_count": 566,
   "id": "010fec8b",
   "metadata": {},
   "outputs": [
    {
     "name": "stdout",
     "output_type": "stream",
     "text": [
      "recall: 0.5 FP_mean: 0.9159663865546218 iteration: 1\n"
     ]
    },
    {
     "data": {
      "text/plain": [
       "(0.5, 0.9159663865546218, 1)"
      ]
     },
     "execution_count": 566,
     "metadata": {},
     "output_type": "execute_result"
    }
   ],
   "source": [
    "porcentage = 0.96\n",
    "threshold = 0.05\n",
    "iteration = 1\n",
    "metric_complete(testsm_D_MAPC3,testlabels,porcentage,threshold,iteration)"
   ]
  },
  {
   "cell_type": "code",
   "execution_count": 599,
   "id": "324ebd7b",
   "metadata": {},
   "outputs": [
    {
     "name": "stdout",
     "output_type": "stream",
     "text": [
      "1\n",
      "recall: 0.5 FP_mean: 0.9159663865546218 iteration: 1\n",
      "2\n",
      "recall: 0.6712121212121213 FP_mean: 1.861344537815126 iteration: 2\n",
      "3\n",
      "recall: 0.7562076749435666 FP_mean: 2.8151260504201683 iteration: 3\n",
      "4\n",
      "recall: 0.8071748878923767 FP_mean: 3.7815126050420167 iteration: 4\n",
      "5\n",
      "recall: 0.8403860430586488 FP_mean: 4.756302521008403 iteration: 5\n",
      "6\n",
      "recall: 0.8640960809102401 FP_mean: 5.743697478991597 iteration: 6\n",
      "7\n",
      "recall: 0.8820936639118457 FP_mean: 6.726890756302521 iteration: 7\n",
      "8\n",
      "recall: 0.8955588091752075 FP_mean: 7.7100840336134455 iteration: 8\n",
      "9\n",
      "recall: 0.9063457330415755 FP_mean: 8.701680672268907 iteration: 9\n",
      "10\n",
      "recall: 0.9151130503768345 FP_mean: 9.693277310924369 iteration: 10\n",
      "11\n",
      "recall: 0.9223793978962641 FP_mean: 10.684873949579831 iteration: 11\n"
     ]
    }
   ],
   "source": [
    "### voy hacerlo para n interaciones:\n",
    "for x in range(1,12):\n",
    "    print(x)\n",
    "    metric_complete(testsm_D_MAPC3,testlabels,porcentage,threshold,x)\n",
    "    #break"
   ]
  },
  {
   "cell_type": "code",
   "execution_count": 603,
   "id": "8025f075",
   "metadata": {},
   "outputs": [
    {
     "name": "stdout",
     "output_type": "stream",
     "text": [
      "0.6428571428571429 8.701680672268907 0.8955588091752075 0.9063457330415755\n",
      "0.010878338475405064\n",
      "x:  8 y:  0.8987126131869846\n"
     ]
    }
   ],
   "source": [
    "x8 = [7.7100840336134455,8.701680672268907]\n",
    "y8 = [0.8955588091752075,0.9063457330415755]\n",
    "evaluar = 8\n",
    "for1 = regresion(x8,y8,evaluar)"
   ]
  },
  {
   "cell_type": "code",
   "execution_count": 604,
   "id": "da3edeb6",
   "metadata": {},
   "outputs": [
    {
     "name": "stdout",
     "output_type": "stream",
     "text": [
      "0.6428571428571429 4.756302521008403 0.8071748878923767 0.8403860430586488\n",
      "0.034070064351606776\n",
      "x:  4 y:  0.8146187674986101\n"
     ]
    }
   ],
   "source": [
    "x4 = [3.7815126050420167,4.756302521008403]\n",
    "y4 = [0.8071748878923767 ,0.8403860430586488]\n",
    "evaluar = 4\n",
    "for1 = regresion(x4,y4,evaluar)"
   ]
  },
  {
   "cell_type": "code",
   "execution_count": 605,
   "id": "79d68816",
   "metadata": {},
   "outputs": [
    {
     "name": "stdout",
     "output_type": "stream",
     "text": [
      "0.6428571428571429 2.8151260504201683 0.6712121212121213 0.7562076749435666\n",
      "0.08911428100477523\n",
      "x:  2 y:  0.6835683030321111\n"
     ]
    }
   ],
   "source": [
    "x2 = [1.861344537815126,2.8151260504201683]\n",
    "y2 = [0.6712121212121213,0.7562076749435666]\n",
    "evaluar = 2\n",
    "for1 = regresion(x2,y2,evaluar)"
   ]
  },
  {
   "cell_type": "code",
   "execution_count": 606,
   "id": "951ed1ea",
   "metadata": {},
   "outputs": [
    {
     "name": "stdout",
     "output_type": "stream",
     "text": [
      "0.9159663865546218 1.861344537815126 0.5 0.6712121212121213\n",
      "0.18110437710437713\n",
      "x:  1 y:  0.5152188552188552\n"
     ]
    }
   ],
   "source": [
    "x1 = [0.9159663865546218, 1.861344537815126]\n",
    "y1 = [0.5, 0.6712121212121213]\n",
    "evaluar = 1\n",
    "for1 = regresion(x1,y1,evaluar)"
   ]
  },
  {
   "cell_type": "code",
   "execution_count": 607,
   "id": "7fe3dc49",
   "metadata": {},
   "outputs": [
    {
     "name": "stdout",
     "output_type": "stream",
     "text": [
      "0.9159663865546218 1.861344537815126 0.5 0.6712121212121213\n",
      "0.18110437710437713\n",
      "x:  0.5 y:  0.42466666666666664\n"
     ]
    }
   ],
   "source": [
    "x = [0.9159663865546218, 1.861344537815126]\n",
    "y = [0.5, 0.6712121212121213]\n",
    "evaluar = 0.5\n",
    "for05 = regresion(x,y,evaluar)"
   ]
  },
  {
   "cell_type": "code",
   "execution_count": 608,
   "id": "94be974f",
   "metadata": {},
   "outputs": [
    {
     "name": "stdout",
     "output_type": "stream",
     "text": [
      "0.6673570411206455\n"
     ]
    }
   ],
   "source": [
    "SUMACPMAP = 0.42466666666666664 + 0.5152188552188552 + 0.6835683030321111 + 0.8146187674986101 + 0.8987126131869846\n",
    "CPMAP = SUMACPMAP/5\n",
    "print(CPMAP)"
   ]
  },
  {
   "cell_type": "code",
   "execution_count": 488,
   "id": "29a116a1",
   "metadata": {},
   "outputs": [
    {
     "name": "stdout",
     "output_type": "stream",
     "text": [
      "0004_P0003-75 0004_P0003-75\n"
     ]
    },
    {
     "data": {
      "image/png": "[encoded data removed]",
      "text/plain": [
       "<Figure size 432x288 with 1 Axes>"
      ]
     },
     "metadata": {
      "needs_background": "light"
     },
     "output_type": "display_data"
    },
    {
     "data": {
      "image/png": "[encoded data removed]",
      "text/plain": [
       "<Figure size 432x288 with 1 Axes>"
      ]
     },
     "metadata": {
      "needs_background": "light"
     },
     "output_type": "display_data"
    },
    {
     "name": "stdout",
     "output_type": "stream",
     "text": [
      "[0.7014809041309431]\n",
      "[(370.0, 349.5, 68, 49)]\n",
      "0.7014809041309431 (370.0, 349.5, 68, 49)\n",
      "1 0 0\n"
     ]
    }
   ],
   "source": [
    "name_test1 = testsm3[1].split('/')[-1].split('.')[0]\n",
    "name_label = testlabels[1].split('/')[-1].split('.')[0]\n",
    "name_test_png = testoriginal[1].split('/')[-1].split('.')[0]\n",
    "if(name_test1 == name_label):\n",
    "    print(name_test1,name_label)\n",
    "    label = get_label_nuevo(testlabels[1])\n",
    "    img1 = cv2.imread(testsm3[1])\n",
    "    gray1 = cv.cvtColor(img1, cv.COLOR_BGR2GRAY)\n",
    "    plt.imshow(gray1, cmap='jet')\n",
    "    plt.show()\n",
    "    plt.close()\n",
    "    \n",
    "dice_score_c = []\n",
    "labels_generated_c = []\n",
    "for i in range(1):\n",
    "    labels_generated = map_To_Bbox_yolo_nuevo(gray1, 0.9)\n",
    "    label_generated, dice_score = best_dice_score(label,labels_generated)\n",
    "    dice_score_c.append(dice_score)\n",
    "    labels_generated_c.append(label_generated)\n",
    "    gray1 = new_saliency_map(gray1,label_generated)\n",
    "    plt.imshow(gray1)\n",
    "    plt.show()\n",
    "    plt.close()\n",
    "print(dice_score_c)\n",
    "print(labels_generated_c)\n",
    "i_max = dice_score_c.index(max(dice_score_c))\n",
    "print(dice_score_c[i_max], labels_generated_c[i_max])\n",
    "threshold = 0.05\n",
    "if(dice_score_c[i_max]>=threshold):\n",
    "    TP2 = 1\n",
    "    FN2 = 0\n",
    "    FP2 = sum(1 for i in dice_score_c if i<threshold)\n",
    "else:\n",
    "    TP2 = 0\n",
    "    FN2 = 1\n",
    "    FP2 = sum(1 for i in dice_score_c if i<threshold)\n",
    "print(TP2,FN2,FP2)                                                                                                                                                                                                                                                                                                                                                                                                                                                                                                                                                                                                                                                                                                                                                                                                                         "
   ]
  },
  {
   "cell_type": "code",
   "execution_count": 499,
   "id": "2fe4c6e9",
   "metadata": {},
   "outputs": [
    {
     "name": "stdout",
     "output_type": "stream",
     "text": [
      "0004_P0003-75 0004_P0003-75\n",
      "1 0 0\n"
     ]
    },
    {
     "data": {
      "text/plain": [
       "(1, 0, 0)"
      ]
     },
     "execution_count": 499,
     "metadata": {},
     "output_type": "execute_result"
    }
   ],
   "source": [
    "porcentage = 0.9\n",
    "threshold = 0.05\n",
    "metric_slice(testsm3[1],testlabels[1],porcentage,threshold,1)"
   ]
  },
  {
   "cell_type": "code",
   "execution_count": null,
   "id": "1b087cbb",
   "metadata": {},
   "outputs": [],
   "source": [
    "TP = TP1 + TP2"
   ]
  },
  {
   "cell_type": "code",
   "execution_count": 460,
   "id": "68719620",
   "metadata": {},
   "outputs": [
    {
     "name": "stdout",
     "output_type": "stream",
     "text": [
      "<class 'list'>\n"
     ]
    }
   ],
   "source": [
    "print(type(dice_score_c))"
   ]
  },
  {
   "cell_type": "code",
   "execution_count": 466,
   "id": "b5ad39f5",
   "metadata": {},
   "outputs": [
    {
     "name": "stdout",
     "output_type": "stream",
     "text": [
      "El número de elementos que cumplen la condición es: 5\n"
     ]
    }
   ],
   "source": [
    "mi_vector = [2, 7, 3, 8, 6, 9, 1, 4, 5, 10]\n",
    "conteo = sum(1 for i in mi_vector if i > 5)\n",
    "print(\"El número de elementos que cumplen la condición es:\", conteo)\n"
   ]
  },
  {
   "cell_type": "code",
   "execution_count": 453,
   "id": "76d9b488",
   "metadata": {},
   "outputs": [
    {
     "data": {
      "text/plain": [
       "<matplotlib.image.AxesImage at 0x7f9a5f2de890>"
      ]
     },
     "execution_count": 453,
     "metadata": {},
     "output_type": "execute_result"
    },
    {
     "data": {
      "image/png": "[encoded data removed]",
      "text/plain": [
       "<Figure size 432x288 with 1 Axes>"
      ]
     },
     "metadata": {
      "needs_background": "light"
     },
     "output_type": "display_data"
    }
   ],
   "source": [
    "plt.imshow(gray3)"
   ]
  },
  {
   "cell_type": "code",
   "execution_count": 399,
   "id": "89c698bd",
   "metadata": {},
   "outputs": [],
   "source": [
    "gray = new_saliency_map(gray3,best_ds[0])"
   ]
  },
  {
   "cell_type": "code",
   "execution_count": 311,
   "id": "778e014b",
   "metadata": {},
   "outputs": [],
   "source": [
    "maxValue = gray3.max()\n",
    "_, thresh = cv2.threshold(gray3, int(porcentage*maxValue), 255, cv2.THRESH_BINARY)\n",
    "contours, _ = cv2.findContours(thresh.astype(np.uint8), cv2.RETR_EXTERNAL, cv2.CHAIN_APPROX_SIMPLE)"
   ]
  },
  {
   "cell_type": "code",
   "execution_count": 312,
   "id": "a1558870",
   "metadata": {},
   "outputs": [
    {
     "data": {
      "text/plain": [
       "<matplotlib.image.AxesImage at 0x7f9a681e2110>"
      ]
     },
     "execution_count": 312,
     "metadata": {},
     "output_type": "execute_result"
    },
    {
     "data": {
      "image/png": "[encoded data removed]",
      "text/plain": [
       "<Figure size 432x288 with 1 Axes>"
      ]
     },
     "metadata": {
      "needs_background": "light"
     },
     "output_type": "display_data"
    }
   ],
   "source": [
    "plt.imshow(thresh)"
   ]
  },
  {
   "cell_type": "code",
   "execution_count": 328,
   "id": "b2564bff",
   "metadata": {},
   "outputs": [],
   "source": [
    "labels_generated3 = map_To_Bbox_yolo_nuevo(gray3, porcentage)"
   ]
  },
  {
   "cell_type": "code",
   "execution_count": 314,
   "id": "71295b9a",
   "metadata": {},
   "outputs": [
    {
     "name": "stdout",
     "output_type": "stream",
     "text": [
      "[(323.5, 366.5, 31, 13)]\n"
     ]
    }
   ],
   "source": [
    "print(labels_generated3) ##"
   ]
  },
  {
   "cell_type": "code",
   "execution_count": 315,
   "id": "cb77f8e4",
   "metadata": {},
   "outputs": [],
   "source": [
    "dice_score_t = []"
   ]
  },
  {
   "cell_type": "code",
   "execution_count": 318,
   "id": "80d60393",
   "metadata": {},
   "outputs": [],
   "source": [
    "for label_generated in labels_generated3:\n",
    "    dice_score = getDiceScore_nuevo(label_generated, label)\n",
    "    dice_score_t.append(dice_score)"
   ]
  },
  {
   "cell_type": "code",
   "execution_count": 319,
   "id": "619ba9dc",
   "metadata": {},
   "outputs": [
    {
     "name": "stdout",
     "output_type": "stream",
     "text": [
      "[0.2995169082125604]\n"
     ]
    }
   ],
   "source": [
    "#ordenar de mayor a menor el vector\n",
    "print(dice_score_t)\n"
   ]
  },
  {
   "cell_type": "code",
   "execution_count": 320,
   "id": "5eb0f36d",
   "metadata": {},
   "outputs": [],
   "source": [
    "x,y,w,h = label \n",
    "x = round(x-(w/2))\n",
    "y = round(y-(h/2))\n",
    "\n",
    "x3,y3,w3,h3 = labels_generated3[0]\n",
    "x3 = round(x3-(w3/2))\n",
    "y3 = round(y3-(h3/2))"
   ]
  },
  {
   "cell_type": "code",
   "execution_count": 321,
   "id": "25e499ce",
   "metadata": {},
   "outputs": [
    {
     "data": {
      "text/plain": [
       "(-0.5, 511.5, 511.5, -0.5)"
      ]
     },
     "execution_count": 321,
     "metadata": {},
     "output_type": "execute_result"
    },
    {
     "data": {
      "image/png": "[encoded data removed]",
      "text/plain": [
       "<Figure size 432x288 with 1 Axes>"
      ]
     },
     "metadata": {
      "needs_background": "light"
     },
     "output_type": "display_data"
    }
   ],
   "source": [
    "img_ori = cv2.imread(testoriginal[0])\n",
    "fig, ax = plt.subplots()\n",
    "fig.suptitle('name: '+name_test_png)\n",
    "ax.imshow(img_ori, cmap='bone')\n",
    "ax.title.set_text(name_test_png)\n",
    "ax.axis('off')\n",
    "ax.imshow(img_ori, cmap='bone')\n",
    "ax.title.set_text(name_test_png)\n",
    "rect = patches.Rectangle((x,y),w,h, linewidth=2, edgecolor='g', facecolor='none')\n",
    "rect_1 = patches.Rectangle((x3,y3),w3,h3, linewidth=2, edgecolor='r', facecolor='none')\n",
    "ax.add_patch(rect_1);\n",
    "ax.add_patch(rect);\n",
    "ax.axis('off')"
   ]
  },
  {
   "cell_type": "code",
   "execution_count": 322,
   "id": "1ade2f42",
   "metadata": {},
   "outputs": [],
   "source": [
    "gray33 = gray3.copy()"
   ]
  },
  {
   "cell_type": "code",
   "execution_count": 323,
   "id": "11c79b1f",
   "metadata": {},
   "outputs": [
    {
     "data": {
      "text/plain": [
       "<matplotlib.image.AxesImage at 0x7f9a67e88790>"
      ]
     },
     "execution_count": 323,
     "metadata": {},
     "output_type": "execute_result"
    },
    {
     "data": {
      "image/png": "[encoded data removed]",
      "text/plain": [
       "<Figure size 432x288 with 1 Axes>"
      ]
     },
     "metadata": {
      "needs_background": "light"
     },
     "output_type": "display_data"
    }
   ],
   "source": [
    "plt.imshow(gray33)"
   ]
  },
  {
   "cell_type": "code",
   "execution_count": 324,
   "id": "41d07c40",
   "metadata": {},
   "outputs": [
    {
     "name": "stdout",
     "output_type": "stream",
     "text": [
      "308 360 31 13\n"
     ]
    }
   ],
   "source": [
    "minsm = gray33.min()\n",
    "#print(minsm)\n",
    "x33 = round(x3+w3)\n",
    "y33 = round(y3+h3)\n",
    "print(x3,y3,w3,h3)\n",
    "gray33[y3:y33,x3:x33] = minsm"
   ]
  },
  {
   "cell_type": "code",
   "execution_count": 325,
   "id": "08f8f22f",
   "metadata": {},
   "outputs": [
    {
     "data": {
      "text/plain": [
       "<matplotlib.image.AxesImage at 0x7f9a67dfefd0>"
      ]
     },
     "execution_count": 325,
     "metadata": {},
     "output_type": "execute_result"
    },
    {
     "data": {
      "image/png": "[encoded data removed]",
      "text/plain": [
       "<Figure size 432x288 with 1 Axes>"
      ]
     },
     "metadata": {
      "needs_background": "light"
     },
     "output_type": "display_data"
    }
   ],
   "source": [
    "plt.imshow(gray33)"
   ]
  },
  {
   "cell_type": "code",
   "execution_count": 332,
   "id": "23be5492",
   "metadata": {},
   "outputs": [],
   "source": [
    "minValue = gray33.min()\n",
    "maxValue = gray33.max()\n",
    "_, thresh = cv2.threshold(gray33, int(porcentage*maxValue), 255, cv2.THRESH_BINARY)\n",
    "contours, _ = cv2.findContours(thresh.astype(np.uint8), cv2.RETR_EXTERNAL, cv2.CHAIN_APPROX_SIMPLE)"
   ]
  },
  {
   "cell_type": "code",
   "execution_count": 331,
   "id": "3ae7e5b2",
   "metadata": {},
   "outputs": [
    {
     "data": {
      "text/plain": [
       "<matplotlib.image.AxesImage at 0x7f9a67b49a50>"
      ]
     },
     "execution_count": 331,
     "metadata": {},
     "output_type": "execute_result"
    },
    {
     "data": {
      "image/png": "[encoded data removed]",
      "text/plain": [
       "<Figure size 432x288 with 1 Axes>"
      ]
     },
     "metadata": {
      "needs_background": "light"
     },
     "output_type": "display_data"
    }
   ],
   "source": [
    "plt.imshow(thresh)"
   ]
  },
  {
   "cell_type": "code",
   "execution_count": 333,
   "id": "c797e3a6",
   "metadata": {},
   "outputs": [],
   "source": [
    "labels_generated33 = map_To_Bbox_yolo_nuevo(gray33, porcentage)"
   ]
  },
  {
   "cell_type": "code",
   "execution_count": 334,
   "id": "61dcc37d",
   "metadata": {},
   "outputs": [
    {
     "name": "stdout",
     "output_type": "stream",
     "text": [
      "[(319.0, 356.0, 38, 40), (340.0, 367.0, 2, 6)]\n"
     ]
    }
   ],
   "source": [
    "print(labels_generated33)"
   ]
  },
  {
   "cell_type": "code",
   "execution_count": 339,
   "id": "6f08467f",
   "metadata": {},
   "outputs": [
    {
     "name": "stdout",
     "output_type": "stream",
     "text": [
      "[(319.0, 356.0, 38, 40), (340.0, 367.0, 2, 6)]\n"
     ]
    }
   ],
   "source": [
    "print(sorted(labels_generated33))"
   ]
  },
  {
   "cell_type": "code",
   "execution_count": 335,
   "id": "1d8e883b",
   "metadata": {},
   "outputs": [],
   "source": [
    "dice_score_t = []"
   ]
  },
  {
   "cell_type": "code",
   "execution_count": 336,
   "id": "d8b04615",
   "metadata": {},
   "outputs": [],
   "source": [
    "for label_generated in labels_generated33:\n",
    "    dice_score = getDiceScore_nuevo(label_generated, label)\n",
    "    dice_score_t.append(dice_score)"
   ]
  },
  {
   "cell_type": "code",
   "execution_count": 338,
   "id": "25a52b4e",
   "metadata": {},
   "outputs": [
    {
     "name": "stdout",
     "output_type": "stream",
     "text": [
      "[0.7184873949579832, 0.010434782608695653]\n"
     ]
    }
   ],
   "source": [
    "print(dice_score_t)"
   ]
  },
  {
   "cell_type": "code",
   "execution_count": null,
   "id": "676666fe",
   "metadata": {},
   "outputs": [],
   "source": [
    "### para cuando haya mas contornos deberiamos coger el mayor"
   ]
  },
  {
   "cell_type": "code",
   "execution_count": 340,
   "id": "ecce7665",
   "metadata": {},
   "outputs": [],
   "source": [
    "x,y,w,h = label \n",
    "x = round(x-(w/2))\n",
    "y = round(y-(h/2))\n",
    "\n",
    "x3,y3,w3,h3 = labels_generated33[0]\n",
    "x3 = round(x3-(w3/2))\n",
    "y3 = round(y3-(h3/2))\n"
   ]
  },
  {
   "cell_type": "code",
   "execution_count": 341,
   "id": "f16934ad",
   "metadata": {},
   "outputs": [
    {
     "data": {
      "text/plain": [
       "(-0.5, 511.5, 511.5, -0.5)"
      ]
     },
     "execution_count": 341,
     "metadata": {},
     "output_type": "execute_result"
    },
    {
     "data": {
      "image/png": "[encoded data removed]",
      "text/plain": [
       "<Figure size 432x288 with 1 Axes>"
      ]
     },
     "metadata": {
      "needs_background": "light"
     },
     "output_type": "display_data"
    }
   ],
   "source": [
    "img_ori = cv2.imread(testoriginal[0])\n",
    "fig, ax = plt.subplots()\n",
    "fig.suptitle('name: '+name_test_png)\n",
    "ax.imshow(img_ori, cmap='bone')\n",
    "ax.title.set_text(name_test_png)\n",
    "ax.axis('off')\n",
    "ax.imshow(img_ori, cmap='bone')\n",
    "ax.title.set_text(name_test_png)\n",
    "rect = patches.Rectangle((x,y),w,h, linewidth=2, edgecolor='g', facecolor='none')\n",
    "rect_1 = patches.Rectangle((x3,y3),w3,h3, linewidth=2, edgecolor='r', facecolor='none')\n",
    "ax.add_patch(rect_1);\n",
    "ax.add_patch(rect);\n",
    "ax.axis('off')"
   ]
  },
  {
   "cell_type": "code",
   "execution_count": 346,
   "id": "409404bf",
   "metadata": {},
   "outputs": [
    {
     "data": {
      "text/plain": [
       "(-0.5, 511.5, 511.5, -0.5)"
      ]
     },
     "execution_count": 346,
     "metadata": {},
     "output_type": "execute_result"
    },
    {
     "data": {
      "image/png": "[encoded data removed]",
      "text/plain": [
       "<Figure size 432x288 with 1 Axes>"
      ]
     },
     "metadata": {
      "needs_background": "light"
     },
     "output_type": "display_data"
    }
   ],
   "source": [
    "#voy a visualizar el tresh y el bbox a ver que sucede \n",
    "img_ori = cv2.imread(testoriginal[0])\n",
    "fig, ax = plt.subplots()\n",
    "fig.suptitle('name: '+name_test_png)\n",
    "#ax.imshow(img_ori, cmap='bone')\n",
    "#ax.title.set_text(name_test_png)\n",
    "#ax.axis('off')\n",
    "ax.imshow(thresh)\n",
    "ax.title.set_text(name_test_png)\n",
    "rect = patches.Rectangle((x,y),w,h, linewidth=2, edgecolor='g', facecolor='none')\n",
    "rect_1 = patches.Rectangle((x3,y3),w3,h3, linewidth=2, edgecolor='r', facecolor='none')\n",
    "ax.add_patch(rect_1);\n",
    "ax.add_patch(rect);\n",
    "ax.axis('off')"
   ]
  },
  {
   "cell_type": "code",
   "execution_count": 435,
   "id": "8acec8f9",
   "metadata": {},
   "outputs": [
    {
     "data": {
      "text/plain": [
       "<matplotlib.image.AxesImage at 0x7f9a6043f1d0>"
      ]
     },
     "execution_count": 435,
     "metadata": {},
     "output_type": "execute_result"
    },
    {
     "data": {
      "image/png": "[encoded data removed]",
      "text/plain": [
       "<Figure size 432x288 with 1 Axes>"
      ]
     },
     "metadata": {
      "needs_background": "light"
     },
     "output_type": "display_data"
    }
   ],
   "source": [
    "plt.imshow(gray33)"
   ]
  },
  {
   "cell_type": "code",
   "execution_count": 436,
   "id": "4ba2bbe7",
   "metadata": {},
   "outputs": [],
   "source": [
    "gray333 = gray33.copy()"
   ]
  },
  {
   "cell_type": "code",
   "execution_count": 438,
   "id": "a8d08081",
   "metadata": {},
   "outputs": [
    {
     "name": "stdout",
     "output_type": "stream",
     "text": [
      "339 364 2 6\n"
     ]
    }
   ],
   "source": [
    "gray333 = gray33.copy()\n",
    "x33 = round(x3+w3)\n",
    "y33 = round(y3+h3)\n",
    "print(x3,y3,w3,h3)\n",
    "gray33[y3:y33,x3:x33] = minsm"
   ]
  },
  {
   "cell_type": "code",
   "execution_count": 439,
   "id": "fc9e23e7",
   "metadata": {},
   "outputs": [
    {
     "data": {
      "text/plain": [
       "<matplotlib.image.AxesImage at 0x7f9a60282a10>"
      ]
     },
     "execution_count": 439,
     "metadata": {},
     "output_type": "execute_result"
    },
    {
     "data": {
      "image/png": "[encoded data removed]",
      "text/plain": [
       "<Figure size 432x288 with 1 Axes>"
      ]
     },
     "metadata": {
      "needs_background": "light"
     },
     "output_type": "display_data"
    }
   ],
   "source": [
    "plt.imshow(gray333)"
   ]
  },
  {
   "cell_type": "code",
   "execution_count": 352,
   "id": "6e6b5a5b",
   "metadata": {},
   "outputs": [],
   "source": [
    "minValue = gray333.min()\n",
    "maxValue = gray333.max()\n",
    "_, thresh = cv2.threshold(gray333, int(porcentage*maxValue), 255, cv2.THRESH_BINARY)\n",
    "contours, _ = cv2.findContours(thresh.astype(np.uint8), cv2.RETR_EXTERNAL, cv2.CHAIN_APPROX_SIMPLE)"
   ]
  },
  {
   "cell_type": "code",
   "execution_count": 353,
   "id": "997d7b2a",
   "metadata": {},
   "outputs": [
    {
     "data": {
      "text/plain": [
       "<matplotlib.image.AxesImage at 0x7f9a67018610>"
      ]
     },
     "execution_count": 353,
     "metadata": {},
     "output_type": "execute_result"
    },
    {
     "data": {
      "image/png": "[encoded data removed]",
      "text/plain": [
       "<Figure size 432x288 with 1 Axes>"
      ]
     },
     "metadata": {
      "needs_background": "light"
     },
     "output_type": "display_data"
    }
   ],
   "source": [
    "plt.imshow(thresh)"
   ]
  },
  {
   "cell_type": "code",
   "execution_count": 359,
   "id": "e8c0cc52",
   "metadata": {},
   "outputs": [],
   "source": [
    "labels_generated333 = map_To_Bbox_yolo_nuevo(gray333, porcentage)"
   ]
  },
  {
   "cell_type": "code",
   "execution_count": 360,
   "id": "b1565ceb",
   "metadata": {},
   "outputs": [
    {
     "name": "stdout",
     "output_type": "stream",
     "text": [
      "[(340.0, 367.0, 2, 6)]\n"
     ]
    }
   ],
   "source": [
    "print(labels_generated33)"
   ]
  },
  {
   "cell_type": "code",
   "execution_count": 361,
   "id": "0fd002ea",
   "metadata": {},
   "outputs": [],
   "source": [
    "x,y,w,h = label \n",
    "x = round(x-(w/2))\n",
    "y = round(y-(h/2))\n",
    "\n",
    "x3,y3,w3,h3 = labels_generated333[0]\n",
    "x3 = round(x3-(w3/2))\n",
    "y3 = round(y3-(h3/2))"
   ]
  },
  {
   "cell_type": "code",
   "execution_count": 362,
   "id": "d9e93da7",
   "metadata": {},
   "outputs": [
    {
     "data": {
      "text/plain": [
       "(-0.5, 511.5, 511.5, -0.5)"
      ]
     },
     "execution_count": 362,
     "metadata": {},
     "output_type": "execute_result"
    },
    {
     "data": {
      "image/png": "[encoded data removed]",
      "text/plain": [
       "<Figure size 432x288 with 1 Axes>"
      ]
     },
     "metadata": {
      "needs_background": "light"
     },
     "output_type": "display_data"
    }
   ],
   "source": [
    "img_ori = cv2.imread(testoriginal[0])\n",
    "fig, ax = plt.subplots()\n",
    "fig.suptitle('name: '+name_test_png)\n",
    "ax.imshow(img_ori, cmap='bone')\n",
    "ax.title.set_text(name_test_png)\n",
    "rect = patches.Rectangle((x,y),w,h, linewidth=2, edgecolor='g', facecolor='none')\n",
    "rect_1 = patches.Rectangle((x3,y3),w3,h3, linewidth=2, edgecolor='r', facecolor='none')\n",
    "ax.add_patch(rect_1);\n",
    "ax.add_patch(rect);\n",
    "ax.axis('off')"
   ]
  },
  {
   "cell_type": "code",
   "execution_count": 26,
   "id": "36e58a41",
   "metadata": {},
   "outputs": [],
   "source": [
    "### creacion de la funcion:\n",
    "def best_dice_score(label_true,labels_generated):\n",
    "    dice_score_t = []\n",
    "    for label_generated in labels_generated:\n",
    "        dice_score = getDiceScore_nuevo(label_true,label_generated)\n",
    "        dice_score_t.append(dice_score)\n",
    "    position_ds = dice_score_t.index(max(dice_score_t))\n",
    "    dice_score = dice_score_t[position_ds]\n",
    "    label_generated = labels_generated[position_ds]\n",
    "    return label_generated,dice_score"
   ]
  },
  {
   "cell_type": "code",
   "execution_count": 27,
   "id": "d4db3992",
   "metadata": {},
   "outputs": [],
   "source": [
    "def new_saliency_map(gray,label_generated):\n",
    "    #gray = cv.cvtColor(maps, cv.COLOR_BGR2GRAY)\n",
    "    min_value = gray.min()\n",
    "    x,y,w,h = label_generated\n",
    "    x = round(x-(w/2))\n",
    "    y = round(y-(h/2))\n",
    "    x1 = round(x+w)\n",
    "    y1 = round(y+h)\n",
    "    gray[y:y1,x:x1] = min_value\n",
    "    return gray"
   ]
  },
  {
   "cell_type": "code",
   "execution_count": 28,
   "id": "d254d431",
   "metadata": {},
   "outputs": [],
   "source": [
    "def map_To_Bbox_yolo_nuevo_1(saliencyMap, porcentage = 0.99):\n",
    "    maxValue = saliencyMap.max()\n",
    "    _, thresh = cv2.threshold(saliencyMap, int(porcentage*maxValue), 255, cv2.THRESH_BINARY)\n",
    "    contours, _ = cv2.findContours(thresh.astype(np.uint8), cv2.RETR_EXTERNAL, cv2.CHAIN_APPROX_SIMPLE)\n",
    "    #plt.imshow(thresh)\n",
    "    #plt.show()\n",
    "    #plt.close()\n",
    "    if len(contours) == 0:\n",
    "        return []\n",
    "    else:\n",
    "        #plt.imshow(thresh)\n",
    "    # Calcular el bounding box de cada contorno\n",
    "        bounding_boxes = []\n",
    "    \n",
    "        contours = sorted(contours, key=cv2.contourArea, reverse=True)[:]\n",
    "        bounding_box = cv2.boundingRect(contour[0])\n",
    "        \"\"\"\n",
    "        for contour in contours:\n",
    "            bounding_box = cv2.boundingRect(contour)\n",
    "            x,y,w,h      = bounding_box\n",
    "            #print(bounding_box)\n",
    "            x = x + (w/2)\n",
    "            y = y + (h/2)\n",
    "            #print(x,y,w,h)\n",
    "            bounding_boxes.append((x,y,w,h))\n",
    "         \"\"\"            \n",
    "    return bounding_boxes"
   ]
  }
 ],
 "metadata": {
  "kernelspec": {
   "display_name": "Python 3 (ipykernel)",
   "language": "python",
   "name": "python3"
  },
  "language_info": {
   "codemirror_mode": {
    "name": "ipython",
    "version": 3
   },
   "file_extension": ".py",
   "mimetype": "text/x-python",
   "name": "python",
   "nbconvert_exporter": "python",
   "pygments_lexer": "ipython3",
   "version": "3.7.11"
  }
 },
 "nbformat": 4,
 "nbformat_minor": 5
}
